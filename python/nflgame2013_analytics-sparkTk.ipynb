{
 "cells": [
  {
   "cell_type": "markdown",
   "metadata": {},
   "source": [
    "# Graph Analytics Demo: NFL game 2013 (Ravens vs. Broncos) "
   ]
  },
  {
   "cell_type": "markdown",
   "metadata": {},
   "source": [
    "<img src=\"RavensVsBroncos.png\">"
   ]
  },
  {
   "cell_type": "code",
   "execution_count": 1,
   "metadata": {},
   "outputs": [],
   "source": [
    "import trustedanalytics as ta"
   ]
  },
  {
   "cell_type": "code",
   "execution_count": 2,
   "metadata": {},
   "outputs": [
    {
     "name": "stdout",
     "output_type": "stream",
     "text": [
      "Connected.  This client instance connected to server http://localhost:9099/v1 (version=TheReneNumber) as user test_api_key_1 at 2016-08-04 09:31:08.772139.\n"
     ]
    }
   ],
   "source": [
    "ta.connect()"
   ]
  },
  {
   "cell_type": "markdown",
   "metadata": {},
   "source": [
    "## Import frames from CSV files located HDFS"
   ]
  },
  {
   "cell_type": "code",
   "execution_count": 3,
   "metadata": {},
   "outputs": [],
   "source": [
    "# create vertex frame schema\n",
    "#=======================\n",
    "vschema= [(\"id\",ta.int32),(\"number\",ta.int32),(\"player_name\",str),(\"age\",ta.int32),(\"team\",str),(\"position\",str)]\n",
    "v_csv = ta.CsvFile(\"/nflgamedata/NFLgame2013vertices_players_fv.csv\",vschema,skip_header_lines=1)"
   ]
  },
  {
   "cell_type": "code",
   "execution_count": 4,
   "metadata": {},
   "outputs": [],
   "source": [
    "#create edge frame schema\n",
    "#====================\n",
    "eschema= [(\"the_doer\",str),(\"the_receiver\",str),(\"play_type\",str),(\"play_evaluation\",str),(\"penalty_type\",str),(\"penalty_on\",str),(\"pass_location\",str),(\"quarter\",ta.int32),(\"min\",ta.int32),(\"sec\",ta.int32),(\"off\",str),(\"def\",str),(\"down\",ta.int32),(\"yards_to_go\",ta.int32),(\"yard_line\",ta.int32),(\"yards_done\",ta.int32),(\"injuries\",str),(\"score_type\",str),(\"off_score\",ta.int32),(\"def_score\",ta.int32)]\n",
    "e_csv = ta.CsvFile(\"/nflgamedata/NFLgame2013_edges_full_fv.csv\",eschema,skip_header_lines=1)"
   ]
  },
  {
   "cell_type": "code",
   "execution_count": 5,
   "metadata": {},
   "outputs": [
    {
     "name": "stdout",
     "output_type": "stream",
     "text": [
      "\r",
      "                                                                                \r",
      "Done [=========================] 100.00% Time 00:00:05\n"
     ]
    },
    {
     "data": {
      "text/plain": [
       "[#]  id  number  player_name  age  team              position\n",
       "=============================================================\n",
       "[0]   1      51  D.Smith       31  Baltimore Ravens  MLB\n",
       "[1]   2      32  J.Ihedigbo    30  Baltimore Ravens  SS\n",
       "[2]   3      21  L.Webb        28  Baltimore Ravens  LCB\n",
       "[3]   4      55  T.Suggs       31  Baltimore Ravens  LB\n",
       "[4]   5      24  C.Graham      28  Baltimore Ravens  cb\n",
       "[5]   6      26  M.Elam        22  Baltimore Ravens  FS\n",
       "[6]   7      22  J.Smith       25  Baltimore Ravens  RCB\n",
       "[7]   8      97  A.Jones       27  Baltimore Ravens  DT\n",
       "[8]   9      53  J.McClain     28  Baltimore Ravens  lb/mlb\n",
       "[9]  10      92  H.Ngata       29  Baltimore Ravens  NT"
      ]
     },
     "execution_count": 5,
     "output_type": "execute_result",
     "metadata": {}
    }
   ],
   "source": [
    "#load the verticses CSV file into a frame\n",
    "#========================================\n",
    "vertex_frame = ta.Frame(v_csv)\n",
    "vertex_frame.inspect()"
   ]
  },
  {
   "cell_type": "code",
   "execution_count": 6,
   "metadata": {},
   "outputs": [
    {
     "name": "stdout",
     "output_type": "stream",
     "text": [
      "\r",
      "                                                                                \r",
      "Done [=========================] 100.00% Time 00:00:01\n"
     ]
    },
    {
     "data": {
      "text/plain": [
       "[#]  the_doer   the_receiver  play_type  play_evaluation  penalty_type         \n",
       "===============================================================================\n",
       "[0]  M.Prater   BAL           kickoff    touchback\n",
       "[1]  J.Flacco   R.Rice        pass       complete\n",
       "[2]  R.Rice     D.Ihenacho    rush       rush\n",
       "[3]  J.Flacco   B.Stokley     pass       complete         off pass interference\n",
       "[4]  S.Koch     M.Cox         punt       k out of bounds\n",
       "[5]  P.Manning  J.Thomas      pass       incomplete\n",
       "[6]  K.Moreno   T.Suggs       rush       rush\n",
       "[7]  K.Moreno   J.Bynes       rush       rush\n",
       "[8]  P.Manning  W.Welker      pass       complete\n",
       "[9]  P.Manning  E.Decker      pass       incomplete\n",
       "\n",
       "[#]  penalty_on  pass_location  quarter  min  sec  off  def  down  yards_to_go\n",
       "==============================================================================\n",
       "[0]                                   1    0    0  DEN  BAL     0            0\n",
       "[1]              short middle         1   60    0  BAL  DEN     1           10\n",
       "[2]                                   1   59   14  BAL  DEN     2           11\n",
       "[3]  J.Jones     short left           1   58   38  BAL  DEN     3            8\n",
       "[4]                                   1   58   18  BAL  DEN     4            2\n",
       "[5]              short right          1   58   10  DEN  BAL     1           10\n",
       "[6]                                   1   58    5  DEN  BAL     2           10\n",
       "[7]                                   1   58    5  DEN  BAL     2           10\n",
       "[8]              short left           1   57   25  DEN  BAL     3            9\n",
       "[9]              deep right           1   57    4  DEN  BAL     1           10\n",
       "\n",
       "[#]  yard_line  yards_done  injuries  score_type  off_score  def_score\n",
       "======================================================================\n",
       "[0]         35          65                                0          0\n",
       "[1]         80          -1                                0          0\n",
       "[2]         81           3                                0          0\n",
       "[3]         78          -6                                0          0\n",
       "[4]         72          49                                0          0\n",
       "[5]         77           0                                0          0\n",
       "[6]         77           1                                0          0\n",
       "[7]         77           1                                0          0\n",
       "[8]         76          10                                0          0\n",
       "[9]         66           0                                0          0"
      ]
     },
     "execution_count": 6,
     "output_type": "execute_result",
     "metadata": {}
    }
   ],
   "source": [
    "#load the the edges CSV file into a frame\n",
    "#========================================\n",
    "edge_frame = ta.Frame(e_csv)\n",
    "edge_frame.inspect()"
   ]
  },
  {
   "cell_type": "markdown",
   "metadata": {},
   "source": [
    "## Build a graph"
   ]
  },
  {
   "cell_type": "code",
   "execution_count": 7,
   "metadata": {},
   "outputs": [],
   "source": [
    "graph = ta.Graph()"
   ]
  },
  {
   "cell_type": "code",
   "execution_count": 8,
   "metadata": {},
   "outputs": [
    {
     "name": "stdout",
     "output_type": "stream",
     "text": [
      "Done [=========================] 100.00% Time 00:00:01\n",
      "Done [=========================] 100.00% Time 00:00:02\n"
     ]
    }
   ],
   "source": [
    "#define vertex type and add vertices\n",
    "#===================================\n",
    "graph.define_vertex_type('players')\n",
    "graph.vertices['players'].add_vertices(vertex_frame,'player_name',['number','age','team','position'])"
   ]
  },
  {
   "cell_type": "code",
   "execution_count": 9,
   "metadata": {},
   "outputs": [
    {
     "name": "stdout",
     "output_type": "stream",
     "text": [
      "Done [=========================] 100.00% Time 00:00:01\n",
      "Done [=========================] 100.00% Time 00:00:02\n"
     ]
    }
   ],
   "source": [
    "#define edge type and add edges\n",
    "#==============================\n",
    "graph.define_edge_type('play_details','players', 'players', directed=True)\n",
    "graph.edges['play_details'].add_edges(edge_frame, 'the_doer', 'the_receiver',['play_type','play_evaluation','penalty_type','penalty_on','pass_location','min','sec','quarter','off','def','down','yards_to_go','yard_line','yards_done','injuries','score_type','off_score','def_score'])"
   ]
  },
  {
   "cell_type": "code",
   "execution_count": 10,
   "metadata": {},
   "outputs": [
    {
     "data": {
      "text/plain": [
       "Graph <unnamed>\n",
       "status = ACTIVE  (last_read_date = 2016-08-04T09:31:21.597000-07:00)\n",
       "vertices = \n",
       "  players : [player_name, number, age, team, position], count = 104\n",
       "edges = \n",
       "  play_details : [play_type, play_evaluation, penalty_type, penalty_on, pass_location, min, sec, quarter, off, def, down, yards_to_go, yard_line, yards_done, injuries, score_type, off_score, def_score], count = 219"
      ]
     },
     "execution_count": 10,
     "output_type": "execute_result",
     "metadata": {}
    }
   ],
   "source": [
    "graph"
   ]
  },
  {
   "cell_type": "markdown",
   "metadata": {},
   "source": [
    "## Summarize play types by team"
   ]
  },
  {
   "cell_type": "code",
   "execution_count": 11,
   "metadata": {},
   "outputs": [],
   "source": [
    "import matplotlib.pyplot as plt\n",
    "import numpy as np\n",
    "%matplotlib inline"
   ]
  },
  {
   "cell_type": "markdown",
   "metadata": {},
   "source": [
    "### Use copy, filter and group_by functions to summarize play types"
   ]
  },
  {
   "cell_type": "code",
   "execution_count": 12,
   "metadata": {},
   "outputs": [
    {
     "name": "stdout",
     "output_type": "stream",
     "text": [
      "Done [=========================] 100.00% Time 00:00:01\n",
      "Done [=========================] 100.00% Time 00:00:02\n",
      "Done [=========================] 100.00% Time 00:00:01\n",
      "Done [=========================] 100.00% Time 00:00:01\n",
      "Done [=========================] 100.00% Time 00:00:02\n",
      "Done [=========================] 100.00% Time 00:00:01\n"
     ]
    }
   ],
   "source": [
    "#play types summary\n",
    "#Bal-Revens: \n",
    "bal_edge_frame = graph.edges['play_details'].copy()\n",
    "bal_edge_frame.filter(lambda row: row.off=='BAL')\n",
    "bal_play_summ = bal_edge_frame.group_by('play_type',ta.agg.count)\n",
    "#Den-Broncos\n",
    "den_edge_frame = graph.edges['play_details'].copy()\n",
    "den_edge_frame.filter(lambda row: row.off=='DEN')\n",
    "den_play_summ = den_edge_frame.group_by('play_type',ta.agg.count)"
   ]
  },
  {
   "cell_type": "code",
   "execution_count": 13,
   "metadata": {},
   "outputs": [
    {
     "name": "stdout",
     "output_type": "stream",
     "text": [
      "Denver-Broncos\n"
     ]
    },
    {
     "data": {
      "text/plain": [
       "[#]  play_type   count\n",
       "======================\n",
       "[0]  kickoff         8\n",
       "[1]  kneel           2\n",
       "[2]  pass           45\n",
       "[3]  noplay          6\n",
       "[4]  punt            7\n",
       "[5]  rush           26\n",
       "[6]  extrapoint      7"
      ]
     },
     "execution_count": 13,
     "output_type": "execute_result",
     "metadata": {}
    }
   ],
   "source": [
    "print(\"Denver-Broncos\")\n",
    "den_play_summ.inspect()"
   ]
  },
  {
   "cell_type": "code",
   "execution_count": 14,
   "metadata": {},
   "outputs": [
    {
     "name": "stdout",
     "output_type": "stream",
     "text": [
      "Baltimore-Ravens\n"
     ]
    },
    {
     "data": {
      "text/plain": [
       "[#]  play_type   count\n",
       "======================\n",
       "[0]  kickoff         6\n",
       "[1]  pass           69\n",
       "[2]  noplay          3\n",
       "[3]  punt           10\n",
       "[4]  fieldgoal       2\n",
       "[5]  rush           25\n",
       "[6]  extrapoint      3"
      ]
     },
     "execution_count": 14,
     "output_type": "execute_result",
     "metadata": {}
    }
   ],
   "source": [
    "print(\"Baltimore-Ravens\")\n",
    "bal_play_summ.inspect()"
   ]
  },
  {
   "cell_type": "markdown",
   "metadata": {},
   "source": [
    "## Summarize the scores types by team"
   ]
  },
  {
   "cell_type": "code",
   "execution_count": 15,
   "metadata": {},
   "outputs": [
    {
     "name": "stdout",
     "output_type": "stream",
     "text": [
      "Done [=========================] 100.00% Time 00:00:02\n",
      "Done [=========================] 100.00% Time 00:00:01\n",
      "Done [=========================] 100.00% Time 00:00:02\n",
      "Done [=========================] 100.00% Time 00:00:01\n"
     ]
    }
   ],
   "source": [
    "#Bal\n",
    "bal_edge_frame.filter(lambda row: row.score_type !='')\n",
    "bal_scores_summ= bal_edge_frame.group_by('score_type',ta.agg.count)\n",
    "#Den\n",
    "den_edge_frame.filter(lambda row: row.score_type!='')\n",
    "den_scores_summ= den_edge_frame.group_by('score_type',ta.agg.count)"
   ]
  },
  {
   "cell_type": "code",
   "execution_count": 16,
   "metadata": {},
   "outputs": [
    {
     "name": "stdout",
     "output_type": "stream",
     "text": [
      "Baltimore-Ravens\n"
     ]
    },
    {
     "data": {
      "text/plain": [
       "[#]  score_type  count\n",
       "======================\n",
       "[0]  fieldgoal       2\n",
       "[1]  extrapoint      3\n",
       "[2]  touchdown       3"
      ]
     },
     "execution_count": 16,
     "output_type": "execute_result",
     "metadata": {}
    }
   ],
   "source": [
    "print(\"Baltimore-Ravens\")\n",
    "bal_scores_summ.inspect()"
   ]
  },
  {
   "cell_type": "code",
   "execution_count": 17,
   "metadata": {},
   "outputs": [
    {
     "name": "stdout",
     "output_type": "stream",
     "text": [
      "Denver-Broncos\n"
     ]
    },
    {
     "data": {
      "text/plain": [
       "[#]  score_type  count\n",
       "======================\n",
       "[0]  extrapoint      7\n",
       "[1]  touchdown       7"
      ]
     },
     "execution_count": 17,
     "output_type": "execute_result",
     "metadata": {}
    }
   ],
   "source": [
    "print(\"Denver-Broncos\")\n",
    "den_scores_summ.inspect()"
   ]
  },
  {
   "cell_type": "markdown",
   "metadata": {},
   "source": [
    "## The 4th down play type:  what was the coach decision at the 4th down?"
   ]
  },
  {
   "cell_type": "code",
   "execution_count": 18,
   "metadata": {},
   "outputs": [
    {
     "name": "stdout",
     "output_type": "stream",
     "text": [
      "Done [=========================] 100.00% Time 00:00:01\n",
      "Done [=========================] 100.00% Time 00:00:02\n",
      "Done [=========================] 100.00% Time 00:00:02\n",
      "Done [=========================] 100.00% Time 00:00:01\n",
      "Done [=========================] 100.00% Time 00:00:01\n",
      "Done [=========================] 100.00% Time 00:00:02\n",
      "Done [=========================] 100.00% Time 00:00:02\n",
      "Done [=========================] 100.00% Time 00:00:01\n"
     ]
    },
    {
     "data": {
      "text/plain": [
       "<function matplotlib.pyplot.show>"
      ]
     },
     "execution_count": 18,
     "output_type": "execute_result",
     "metadata": {}
    },
    {
     "data": {
      "image/png": "[encoded data removed]"
     },
     "output_type": "display_data",
     "metadata": {}
    }
   ],
   "source": [
    "# Get Den 4th down data \n",
    "edges_frame = graph.edges['play_details'].copy()\n",
    "edges_frame.filter(lambda row: row.down== 4)\n",
    "edges_frame.filter(lambda row: row.off=='DEN')\n",
    "DEN_4th_down_play = edges_frame.group_by('play_type',ta.agg.count)\n",
    "# Get Bal 4th down data\n",
    "edges_frame2 = graph.edges['play_details'].copy()\n",
    "edges_frame2.filter(lambda row: row.down== 4)\n",
    "edges_frame2.filter(lambda row: row.off=='BAL')\n",
    "BAL_4th_down_play = edges_frame2.group_by('play_type',ta.agg.count)\n",
    "\n",
    "# plot the results\n",
    "ind = np.arange(3)\n",
    "width = 0.35       \n",
    "fig, ax = plt.subplots()\n",
    "rects1 = ax.bar(ind,(1,10,2), width, color='b')\n",
    "rects2 = ax.bar(ind+width,(0,7,0), width, color='orange')\n",
    "ax.set_ylabel('Number of plays')\n",
    "ax.set_title('What did the coach make at the 4th down?')\n",
    "ax.set_xticks(ind + width)\n",
    "ax.set_xticklabels(('Go for it','Punt','FG'))\n",
    "ax.legend((rects1[0], rects2[0]),('BAL-Ravens', 'DEN-Broncos'))\n",
    "plt.show"
   ]
  },
  {
   "cell_type": "markdown",
   "metadata": {},
   "source": [
    "## Analyze net yards by team"
   ]
  },
  {
   "cell_type": "code",
   "execution_count": 19,
   "metadata": {},
   "outputs": [
    {
     "name": "stdout",
     "output_type": "stream",
     "text": [
      "Done [=========================] 100.00% Time 00:00:01\n",
      "Done [=========================] 100.00% Time 00:00:02\n",
      "Done [=========================] 100.00% Time 00:00:01\n",
      "Done [=========================] 100.00% Time 00:00:01\n",
      "Done [=========================] 100.00% Time 00:00:02\n",
      "Done [=========================] 100.00% Time 00:00:01\n"
     ]
    },
    {
     "data": {
      "text/plain": [
       "<function matplotlib.pyplot.show>"
      ]
     },
     "execution_count": 19,
     "output_type": "execute_result",
     "metadata": {}
    },
    {
     "data": {
      "image/png": "[encoded data removed]"
     },
     "output_type": "display_data",
     "metadata": {}
    }
   ],
   "source": [
    "# BAL histogram of yards_done\n",
    "edge_frame_hist=graph.edges['play_details'].copy()\n",
    "edge_frame_hist.filter(lambda row: row.off=='BAL')\n",
    "hist_bal = edge_frame_hist.histogram(\"yards_done\",num_bins=25)\n",
    "# DEN histogram of yards_done\n",
    "edge_frame_hist1=graph.edges['play_details'].copy()\n",
    "edge_frame_hist1.filter(lambda row: row.off=='DEN')\n",
    "hist_den = edge_frame_hist1.histogram(\"yards_done\",num_bins=25)\n",
    "\n",
    "# plot histograms by team\n",
    "num_bins=25\n",
    "ind = hist_bal.cutoffs[0:num_bins]\n",
    "width1 = hist_bal.cutoffs[1]-hist_bal.cutoffs[0]\n",
    "width2 = hist_den.cutoffs[1]-hist_den.cutoffs[0]\n",
    "fig,(ax0,ax) = plt.subplots(2,1)\n",
    "fig.set_size_inches(18.5, 10.5, forward=True)\n",
    "rects1 = ax.bar(hist_bal.cutoffs[0:num_bins],hist_bal.density,width1,color='blue')\n",
    "rects2 = ax0.bar(hist_den.cutoffs[0:num_bins],hist_den.density,width2,color='orange')\n",
    "ax0.set_ylabel('yards_done density function')\n",
    "ax.set_xlabel('yards_done')\n",
    "ax0.set_title('\"yards_done\" by Denver & Baltimore histogram')\n",
    "ax0.legend((rects1[0], rects2[0]),('BAL', 'DEN'))\n",
    "ax0.set_ylim(0,0.45)\n",
    "ax.set_ylim(0,0.45)\n",
    "plt.show"
   ]
  },
  {
   "cell_type": "markdown",
   "metadata": {},
   "source": [
    "## Play-by-play analysis (offense-team behavior) "
   ]
  },
  {
   "cell_type": "code",
   "execution_count": 20,
   "metadata": {},
   "outputs": [
    {
     "name": "stdout",
     "output_type": "stream",
     "text": [
      "Done [=========================] 100.00% Time 00:00:01\n",
      "Done [=========================] 100.00% Time 00:00:02\n",
      "Done [=========================] 100.00% Time 00:00:02\n",
      "Done [=========================] 100.00% Time 00:00:01\n",
      "Done [=========================] 100.00% Time 00:00:01\n",
      "Done [=========================] 100.00% Time 00:00:02\n",
      "Done [=========================] 100.00% Time 00:00:02\n",
      "Done [=========================] 100.00% Time 00:00:01\n"
     ]
    }
   ],
   "source": [
    "# BAl-Ravens: Get score types, yard lines and the corresponding time\n",
    "bal_edge_frame = graph.edges['play_details'].copy()\n",
    "bal_edge_frame.filter(lambda row: row.off=='BAL')\n",
    "panda_frame_yards0 = bal_edge_frame.download(columns=['yard_line'])\n",
    "panda_frame_min0 = bal_edge_frame.download(columns=['min'])\n",
    "panda_frame_sec0 = bal_edge_frame.download(columns=['sec'])\n",
    "yards_list = panda_frame_yards0['yard_line'].tolist()\n",
    "bal_min_list = panda_frame_min0['min'].tolist()\n",
    "bal_sec_list= panda_frame_sec0['sec'].tolist()\n",
    "bal_time_list= [x+y/60.0 for x, y in zip(bal_min_list, bal_sec_list)]\n",
    "\n",
    "#plot the scores vs time:\n",
    "bal_edge_frame.filter(lambda row: row.score_type !='')\n",
    "bal_scores_summ= bal_edge_frame.group_by('score_type',ta.agg.count)\n",
    "panda_frame_min_s = bal_edge_frame.download(columns=['min'])\n",
    "panda_frame_sec_s = bal_edge_frame.download(columns=['sec'])\n",
    "bal_min_list_s = panda_frame_min_s['min'].tolist()\n",
    "bal_sec_list_s= panda_frame_sec_s['sec'].tolist()\n",
    "bal_time_list_s= [x+y/60.0 for x, y in zip(bal_min_list_s, bal_sec_list_s)]\n",
    "\n",
    "# Den-Broncos: Get score types, yard lines and the corresponding time\n",
    "#========================================\n",
    "den_edge_frame = graph.edges['play_details'].copy()\n",
    "den_edge_frame.filter(lambda row: row.off=='DEN')\n",
    "panda_frame_yards1 = den_edge_frame.download(columns=['yard_line'])\n",
    "panda_frame_min1 = den_edge_frame.download(columns=['min'])\n",
    "panda_frame_sec1 = den_edge_frame.download(columns=['sec'])\n",
    "den_yards_list = panda_frame_yards1['yard_line'].tolist()\n",
    "den_min_list = panda_frame_min1['min'].tolist()\n",
    "den_sec_list= panda_frame_sec1['sec'].tolist()\n",
    "den_time_list=[x+y/60.0 for x, y in zip(den_min_list, den_sec_list)]\n",
    "\n",
    "#the scores vs time:\n",
    "den_edge_frame.filter(lambda row: row.score_type!='')\n",
    "den_scores_summ= den_edge_frame.group_by('score_type',ta.agg.count)\n",
    "panda_frame_min_s1 = den_edge_frame.download(columns=['min'])\n",
    "panda_frame_sec_s1 = den_edge_frame.download(columns=['sec'])\n",
    "den_min_list_s = panda_frame_min_s1['min'].tolist()\n",
    "den_sec_list_s= panda_frame_sec_s1['sec'].tolist()\n",
    "den_time_list_s= [x+y/60.0 for x, y in zip(den_min_list_s,den_sec_list_s)]"
   ]
  },
  {
   "cell_type": "code",
   "execution_count": 21,
   "metadata": {},
   "outputs": [
    {
     "data": {
      "text/plain": [
       "<function matplotlib.pyplot.show>"
      ]
     },
     "execution_count": 21,
     "output_type": "execute_result",
     "metadata": {}
    },
    {
     "data": {
      "image/png": "[encoded data removed]"
     },
     "output_type": "display_data",
     "metadata": {}
    }
   ],
   "source": [
    "fig, ax = plt.subplots()\n",
    "fig.set_size_inches(18.5, 10.5, forward=True)\n",
    "plt.grid(True)\n",
    "bal_stats=ax.plot(bal_time_list, yards_list,'bo', markersize=10)\n",
    "den_stats=ax.plot(den_time_list, den_yards_list,'ro', markersize=10)\n",
    "ax.plot(bal_time_list_s,[0]*len(bal_time_list_s),'b*',markerfacecolor='b', markersize=16)\n",
    "ax.plot(den_time_list_s,[0]*len(den_time_list_s),'r*',markerfacecolor='r', markersize=16)\n",
    "ax.set_ylabel('Yard lines')\n",
    "ax.set_title('Ravens vs Broncos game')\n",
    "ax.legend((bal_stats[0], den_stats[0]),('Ravens','Broncos'))\n",
    "plt.show"
   ]
  },
  {
   "cell_type": "markdown",
   "metadata": {},
   "source": [
    "## Re-structure the graph to smaller sub-graphs"
   ]
  },
  {
   "cell_type": "code",
   "execution_count": 44,
   "metadata": {},
   "outputs": [],
   "source": [
    "playtypes_graph = ta.Graph()"
   ]
  },
  {
   "cell_type": "code",
   "execution_count": 45,
   "metadata": {},
   "outputs": [
    {
     "name": "stdout",
     "output_type": "stream",
     "text": [
      "Done [=========================] 100.00% Time 00:00:01\n",
      "Done [=========================] 100.00% Time 00:00:01\n"
     ]
    }
   ],
   "source": [
    "playtypes_graph.define_vertex_type('players')\n",
    "playtypes_graph.vertices['players'].add_vertices(vertex_frame,'player_name',['number','age','team','position'])"
   ]
  },
  {
   "cell_type": "code",
   "execution_count": 46,
   "metadata": {},
   "outputs": [
    {
     "name": "stdout",
     "output_type": "stream",
     "text": [
      "Done [=========================] 100.00% Time 00:00:02\n",
      "Done [=========================] 100.00% Time 00:00:01\n",
      "Done [=========================] 100.00% Time 00:00:02\n",
      "Done [=========================] 100.00% Time 00:00:02\n",
      "Done [=========================] 100.00% Time 00:00:01\n",
      "Done [=========================] 100.00% Time 00:00:02\n",
      "Done [=========================] 100.00% Time 00:00:02\n",
      "Done [=========================] 100.00% Time 00:00:01\n",
      "Done [=========================] 100.00% Time 00:00:02\n",
      "Done [=========================] 100.00% Time 00:00:02\n",
      "Done [=========================] 100.00% Time 00:00:01\n",
      "Done [=========================] 100.00% Time 00:00:02\n",
      "Done [=========================] 100.00% Time 00:00:02\n",
      "Done [=========================] 100.00% Time 00:00:01\n",
      "Done [=========================] 100.00% Time 00:00:02\n",
      "Done [=========================] 100.00% Time 00:00:02\n",
      "Done [=========================] 100.00% Time 00:00:01\n",
      "Done [=========================] 100.00% Time 00:00:02\n",
      "Done [=========================] 100.00% Time 00:00:02\n",
      "Done [=========================] 100.00% Time 00:00:01\n",
      "Done [=========================] 100.00% Time 00:00:02\n"
     ]
    }
   ],
   "source": [
    "#play_type: pass\n",
    "pass_edgeframe = edge_frame.copy(where = lambda row:row.play_type=='pass')\n",
    "playtypes_graph.define_edge_type('pass','players', 'players', directed=True)\n",
    "playtypes_graph.edges['pass'].add_edges(pass_edgeframe, 'the_doer', 'the_receiver',['play_type','play_evaluation','penalty_type','penalty_on','pass_location','min','sec','quarter','off','def','down','yards_to_go','yard_line','yards_done','injuries','score_type','off_score','def_score'])\n",
    "\n",
    "#play_type: rush\n",
    "rush_edgeframe = edge_frame.copy(where = lambda row:row.play_type=='rush')\n",
    "playtypes_graph.define_edge_type('rush_by','players', 'players', directed=True)\n",
    "playtypes_graph.edges['rush_by'].add_edges(rush_edgeframe, 'the_doer', 'the_receiver',['play_type','play_evaluation','penalty_type','penalty_on','pass_location','min','sec','quarter','off','def','down','yards_to_go','yard_line','yards_done','injuries','score_type','off_score','def_score'])\n",
    "\n",
    "#play_type: punt\n",
    "punt_edgeframe = edge_frame.copy(where = lambda row:row.play_type=='punt')\n",
    "playtypes_graph.define_edge_type('punt','players', 'players', directed=True)\n",
    "playtypes_graph.edges['punt'].add_edges(punt_edgeframe, 'the_doer', 'the_receiver',['play_type','play_evaluation','penalty_type','penalty_on','pass_location','min','sec','quarter','off','def','down','yards_to_go','yard_line','yards_done','injuries','score_type','off_score','def_score'])\n",
    "\n",
    "#play_type: kickoff\n",
    "kickoff_edgeframe = edge_frame.copy(where = lambda row:row.play_type=='kickoff')\n",
    "playtypes_graph.define_edge_type('kickoff','players', 'players', directed=True)\n",
    "playtypes_graph.edges['kickoff'].add_edges(kickoff_edgeframe, 'the_doer', 'the_receiver',['play_type','play_evaluation','penalty_type','penalty_on','pass_location','min','sec','quarter','off','def','down','yards_to_go','yard_line','yards_done','injuries','score_type','off_score','def_score'])\n",
    "\n",
    "#play_type: extrapoint\n",
    "extrapoint_edgeframe = edge_frame.copy(where = lambda row:row.play_type=='extrapoint')\n",
    "playtypes_graph.define_edge_type('extrapoint','players', 'players', directed=True)\n",
    "playtypes_graph.edges['extrapoint'].add_edges(extrapoint_edgeframe, 'the_doer', 'the_receiver',['play_type','play_evaluation','penalty_type','penalty_on','pass_location','min','sec','quarter','off','def','down','yards_to_go','yard_line','yards_done','injuries','score_type','off_score','def_score'])\n",
    "\n",
    "#play_type: kneel\n",
    "kneel_edgeframe = edge_frame.copy(where = lambda row:row.play_type=='kneel')\n",
    "playtypes_graph.define_edge_type('kneel','players', 'players', directed=True)\n",
    "playtypes_graph.edges['kneel'].add_edges(kneel_edgeframe, 'the_doer', 'the_receiver',['play_type','play_evaluation','penalty_type','penalty_on','pass_location','min','sec','quarter','off','def','down','yards_to_go','yard_line','yards_done','injuries','score_type','off_score','def_score'])\n",
    "\n",
    "#play_type: noplay\n",
    "noplay_edgeframe = edge_frame.copy(where = lambda row:row.play_type=='noplay')\n",
    "playtypes_graph.define_edge_type('noplay','players', 'players', directed=True)\n",
    "playtypes_graph.edges['noplay'].add_edges(noplay_edgeframe, 'the_doer', 'the_receiver',['play_type','play_evaluation','penalty_type','penalty_on','pass_location','min','sec','quarter','off','def','down','yards_to_go','yard_line','yards_done','injuries','score_type','off_score','def_score'])"
   ]
  },
  {
   "cell_type": "markdown",
   "metadata": {},
   "source": [
    "## Export graph to OrientDB"
   ]
  },
  {
   "cell_type": "code",
   "execution_count": 55,
   "metadata": {},
   "outputs": [
    {
     "name": "stdout",
     "output_type": "stream",
     "text": [
      "\r",
      "                                                                                \r",
      "Done [=========================] 100.00% Time 00:00:03\n"
     ]
    },
    {
     "data": {
      "text/plain": [
       "{u'db_uri': u'plocal:/home/wtaie/graphDBs_home/orientdb-community-2.1.12/databases/NFLgameDBeeee',\n",
       " u'exported_edges': {u'extrapoint': {u'exported_count': 10,\n",
       "   u'failure_count': 0},\n",
       "  u'kickoff': {u'exported_count': 14, u'failure_count': 0},\n",
       "  u'kneel': {u'exported_count': 2, u'failure_count': 0},\n",
       "  u'noplay': {u'exported_count': 9, u'failure_count': 0},\n",
       "  u'pass': {u'exported_count': 114, u'failure_count': 0},\n",
       "  u'punt': {u'exported_count': 17, u'failure_count': 0},\n",
       "  u'rush_by': {u'exported_count': 51, u'failure_count': 0}},\n",
       " u'exported_vertices': {u'players': {u'exported_count': 104,\n",
       "   u'failure_count': 0}}}"
      ]
     },
     "execution_count": 55,
     "output_type": "execute_result",
     "metadata": {}
    }
   ],
   "source": [
    "# Export Parquet graph to OrientDB\n",
    "#=================================\n",
    "playtypes_graph.export_to_orientdb(\"NFLgameDBeeee\",True)"
   ]
  },
  {
   "cell_type": "code",
   "execution_count": 50,
   "metadata": {},
   "outputs": [
    {
     "data": {
      "text/plain": [
       "[#]  _eid  _src_vid  _dest_vid  _label  play_type  play_evaluation  penalty_type\n",
       "================================================================================\n",
       "[0]   138        45        104  pass    pass       good\n",
       "[1]   109        76         79  pass    pass       incomplete\n",
       "[2]   121        76         79  pass    pass       complete\n",
       "[3]   129        76         79  pass    pass       incomplete\n",
       "[4]   171        76         79  pass    pass       incomplete\n",
       "[5]   184        76         79  pass    pass       incomplete\n",
       "[6]   192        76         79  pass    pass       k out of bounds\n",
       "[7]   210        76         79  pass    pass       incomplete\n",
       "[8]   147        76          4  pass    pass       sack\n",
       "[9]   110        76         85  pass    pass       incomplete\n",
       "\n",
       "[#]  penalty_on  pass_location  min  sec  quarter  off  def  down  yards_to_go\n",
       "==============================================================================\n",
       "[0]                              38    8        2  BAL  DEN     1            1\n",
       "[1]              deep right      57    4        1  DEN  BAL     1           10\n",
       "[2]              short right     49   33        1  DEN  BAL     2            9\n",
       "[3]              short left      43   30        2  DEN  BAL     1           10\n",
       "[4]              short left      21   46        3  DEN  BAL     1            2\n",
       "[5]              short left      16   16        3  DEN  BAL     2            6\n",
       "[6]  L.Vasquez   short right     14   27        4  DEN  BAL     2            9\n",
       "[7]              short right      4   47        4  DEN  BAL     2            8\n",
       "[8]              unknown         34    0        2  DEN  BAL     3           15\n",
       "[9]              short left      56   24        1  DEN  BAL     3            3\n",
       "\n",
       "[#]  yard_line  yards_done  injuries  score_type  off_score  def_score\n",
       "======================================================================\n",
       "[0]          1           1            touchdown           7          7\n",
       "[1]         66           0                                0          0\n",
       "[2]         44           5                                0          7\n",
       "[3]         64           0                                0          7\n",
       "[4]          2           0                               28         17\n",
       "[5]         54           0                               35         17\n",
       "[6]         55          27                               35         17\n",
       "[7]         78           0                               42         27\n",
       "[8]         54          -6                               14         14\n",
       "[9]         59           0                                0          0"
      ]
     },
     "execution_count": 50,
     "output_type": "execute_result",
     "metadata": {}
    }
   ],
   "source": [
    "playtypes_graph.edges['pass'].inspect()"
   ]
  },
  {
   "cell_type": "code",
   "execution_count": 52,
   "metadata": {},
   "outputs": [
    {
     "data": {
      "text/plain": [
       "Frame  <unnamed>\n",
       "row_count = 104\n",
       "schema = [_vid:int64, _label:unicode, player_name:unicode, number:int32, age:int32, team:unicode, position:unicode]\n",
       "status = ACTIVE  (last_read_date = 2016-08-04T10:23:10.489000-07:00)"
      ]
     },
     "execution_count": 52,
     "output_type": "execute_result",
     "metadata": {}
    }
   ],
   "source": [
    "playtypes_graph.vertices['players']"
   ]
  },
  {
   "cell_type": "code",
   "execution_count": null,
   "metadata": {},
   "outputs": [],
   "source": [
    ""
   ]
  },
  {
   "cell_type": "markdown",
   "metadata": {},
   "source": [
    "## Import graph from OrientDB"
   ]
  },
  {
   "cell_type": "code",
   "execution_count": 56,
   "metadata": {},
   "outputs": [
    {
     "name": "stdout",
     "output_type": "stream",
     "text": [
      "\r",
      "                                                                                \r",
      "Done [=========================] 100.00% Time 00:00:08\n"
     ]
    }
   ],
   "source": [
    "# Import graph from OrientDB to ATK in Parquet format\n",
    "#===================================================\n",
    "orientGraph = ta.Graph(ta.OrientDBGraph(\"NFLgameDBeeee\"))"
   ]
  },
  {
   "cell_type": "code",
   "execution_count": 57,
   "metadata": {},
   "outputs": [
    {
     "data": {
      "text/plain": [
       "Graph <unnamed>\n",
       "status = ACTIVE  (last_read_date = 2016-08-04T10:28:32.882000-07:00)\n",
       "vertices = \n",
       "  players : [number, player_name, team, position, age], count = 104\n",
       "edges = \n",
       "  kneel : [def, injuries, yards_done, down, off, score_type, penalty_on, sec, play_evaluation, play_type, pass_location, min, def_score, yard_line, penalty_type, yards_to_go, off_score, quarter], count = 2\n",
       "  punt : [def, injuries, yards_done, down, off, score_type, penalty_on, sec, play_evaluation, play_type, pass_location, min, def_score, yard_line, penalty_type, yards_to_go, off_score, quarter], count = 17\n",
       "  extrapoint : [def, injuries, yards_done, down, off, score_type, penalty_on, sec, play_evaluation, play_type, pass_location, min, def_score, yard_line, penalty_type, yards_to_go, off_score, quarter], count = 10\n",
       "  kickoff : [def, injuries, yards_done, down, off, score_type, penalty_on, sec, play_evaluation, play_type, pass_location, min, def_score, yard_line, penalty_type, yards_to_go, off_score, quarter], count = 14\n",
       "  pass : [def, injuries, yards_done, down, off, score_type, penalty_on, sec, play_evaluation, play_type, pass_location, min, def_score, yard_line, penalty_type, yards_to_go, off_score, quarter], count = 114\n",
       "  noplay : [def, injuries, yards_done, down, off, score_type, penalty_on, sec, play_evaluation, play_type, pass_location, min, def_score, yard_line, penalty_type, yards_to_go, off_score, quarter], count = 9\n",
       "  rush_by : [def, injuries, yards_done, down, off, score_type, penalty_on, sec, play_evaluation, play_type, pass_location, min, def_score, yard_line, penalty_type, yards_to_go, off_score, quarter], count = 51"
      ]
     },
     "execution_count": 57,
     "output_type": "execute_result",
     "metadata": {}
    }
   ],
   "source": [
    "orientGraph"
   ]
  },
  {
   "cell_type": "code",
   "execution_count": 26,
   "metadata": {},
   "outputs": [
    {
     "name": "stdout",
     "output_type": "stream",
     "text": [
      "Releasing cluster resources...\n",
      "Done [=========================] 100.00% Time 00:00:01\n"
     ]
    }
   ],
   "source": [
    "ta.release()"
   ]
  },
  {
   "cell_type": "code",
   "execution_count": 27,
   "metadata": {},
   "outputs": [],
   "source": [
    "# to open the OrientDB we just created, need to shutdown the rest-server\n",
    "import pyorient as pyorient"
   ]
  },
  {
   "cell_type": "code",
   "execution_count": 28,
   "metadata": {},
   "outputs": [
    {
     "ename": "PyOrientConnectionException",
     "evalue": "Socket Error: [Errno 111] Connection refused",
     "output_type": "error",
     "traceback": [
      "\u001b[0;31m---------------------------------------------------------------------------\u001b[0m",
      "\u001b[0;31mPyOrientConnectionException\u001b[0m               Traceback (most recent call last)",
      "\u001b[0;32m<ipython-input-28-6e865c583b0a>\u001b[0m in \u001b[0;36m<module>\u001b[0;34m()\u001b[0m\n\u001b[1;32m      1\u001b[0m \u001b[0mclient\u001b[0m \u001b[0;34m=\u001b[0m \u001b[0mpyorient\u001b[0m\u001b[0;34m.\u001b[0m\u001b[0mOrientDB\u001b[0m\u001b[0;34m(\u001b[0m\u001b[0;34m\"localhost\"\u001b[0m\u001b[0;34m,\u001b[0m \u001b[0;36m2424\u001b[0m\u001b[0;34m)\u001b[0m\u001b[0;34m\u001b[0m\u001b[0m\n\u001b[0;32m----> 2\u001b[0;31m \u001b[0msession_id\u001b[0m \u001b[0;34m=\u001b[0m \u001b[0mclient\u001b[0m\u001b[0;34m.\u001b[0m\u001b[0mconnect\u001b[0m\u001b[0;34m(\u001b[0m \u001b[0;34m\"root\"\u001b[0m\u001b[0;34m,\u001b[0m \u001b[0;34m\"root\"\u001b[0m \u001b[0;34m)\u001b[0m\u001b[0;34m\u001b[0m\u001b[0m\n\u001b[0m",
      "\u001b[0;32m/usr/lib/python2.7/site-packages/pyorient/orient.pyc\u001b[0m in \u001b[0;36mconnect\u001b[0;34m(self, user, password, client_id, serialization_type)\u001b[0m\n\u001b[1;32m    290\u001b[0m \u001b[0;34m\u001b[0m\u001b[0m\n\u001b[1;32m    291\u001b[0m         '''\n\u001b[0;32m--> 292\u001b[0;31m         \u001b[0;32mreturn\u001b[0m \u001b[0mself\u001b[0m\u001b[0;34m.\u001b[0m\u001b[0mget_message\u001b[0m\u001b[0;34m(\u001b[0m\u001b[0;34m\"ConnectMessage\"\u001b[0m\u001b[0;34m)\u001b[0m\u001b[0;31m \u001b[0m\u001b[0;31m\\\u001b[0m\u001b[0;34m\u001b[0m\u001b[0m\n\u001b[0m\u001b[1;32m    293\u001b[0m             \u001b[0;34m.\u001b[0m\u001b[0mprepare\u001b[0m\u001b[0;34m(\u001b[0m\u001b[0;34m(\u001b[0m\u001b[0muser\u001b[0m\u001b[0;34m,\u001b[0m \u001b[0mpassword\u001b[0m\u001b[0;34m,\u001b[0m \u001b[0mclient_id\u001b[0m\u001b[0;34m,\u001b[0m \u001b[0mserialization_type\u001b[0m\u001b[0;34m)\u001b[0m\u001b[0;34m)\u001b[0m\u001b[0;34m.\u001b[0m\u001b[0msend\u001b[0m\u001b[0;34m(\u001b[0m\u001b[0;34m)\u001b[0m\u001b[0;34m.\u001b[0m\u001b[0mfetch_response\u001b[0m\u001b[0;34m(\u001b[0m\u001b[0;34m)\u001b[0m\u001b[0;34m\u001b[0m\u001b[0m\n\u001b[1;32m    294\u001b[0m \u001b[0;34m\u001b[0m\u001b[0m\n",
      "\u001b[0;32m/usr/lib/python2.7/site-packages/pyorient/orient.pyc\u001b[0m in \u001b[0;36mget_message\u001b[0;34m(self, command)\u001b[0m\n\u001b[1;32m    487\u001b[0m                     \u001b[0mtoken\u001b[0m \u001b[0;34m=\u001b[0m \u001b[0mself\u001b[0m\u001b[0;34m.\u001b[0m\u001b[0m_auth_token\u001b[0m\u001b[0;34m\u001b[0m\u001b[0m\n\u001b[1;32m    488\u001b[0m \u001b[0;34m\u001b[0m\u001b[0m\n\u001b[0;32m--> 489\u001b[0;31m                 \u001b[0mmessage_instance\u001b[0m \u001b[0;34m=\u001b[0m \u001b[0m_Message\u001b[0m\u001b[0;34m(\u001b[0m\u001b[0mself\u001b[0m\u001b[0;34m.\u001b[0m\u001b[0m_connection\u001b[0m\u001b[0;34m)\u001b[0m\u001b[0;31m\\\u001b[0m\u001b[0;34m\u001b[0m\u001b[0m\n\u001b[0m\u001b[1;32m    490\u001b[0m                     \u001b[0;34m.\u001b[0m\u001b[0mset_session_token\u001b[0m\u001b[0;34m(\u001b[0m\u001b[0mtoken\u001b[0m\u001b[0;34m)\u001b[0m\u001b[0;34m\u001b[0m\u001b[0m\n\u001b[1;32m    491\u001b[0m                 \u001b[0mmessage_instance\u001b[0m\u001b[0;34m.\u001b[0m\u001b[0m_push_callback\u001b[0m \u001b[0;34m=\u001b[0m \u001b[0mself\u001b[0m\u001b[0;34m.\u001b[0m\u001b[0m_push_received\u001b[0m\u001b[0;34m\u001b[0m\u001b[0m\n",
      "\u001b[0;32m/usr/lib/python2.7/site-packages/pyorient/messages/connection.pyc\u001b[0m in \u001b[0;36m__init__\u001b[0;34m(self, _orient_socket)\u001b[0m\n\u001b[1;32m     15\u001b[0m \u001b[0;34m\u001b[0m\u001b[0m\n\u001b[1;32m     16\u001b[0m     \u001b[0;32mdef\u001b[0m \u001b[0m__init__\u001b[0m\u001b[0;34m(\u001b[0m\u001b[0mself\u001b[0m\u001b[0;34m,\u001b[0m \u001b[0m_orient_socket\u001b[0m\u001b[0;34m)\u001b[0m\u001b[0;34m:\u001b[0m\u001b[0;34m\u001b[0m\u001b[0m\n\u001b[0;32m---> 17\u001b[0;31m         \u001b[0msuper\u001b[0m\u001b[0;34m(\u001b[0m \u001b[0mConnectMessage\u001b[0m\u001b[0;34m,\u001b[0m \u001b[0mself\u001b[0m \u001b[0;34m)\u001b[0m\u001b[0;34m.\u001b[0m\u001b[0m__init__\u001b[0m\u001b[0;34m(\u001b[0m\u001b[0m_orient_socket\u001b[0m\u001b[0;34m)\u001b[0m\u001b[0;34m\u001b[0m\u001b[0m\n\u001b[0m\u001b[1;32m     18\u001b[0m \u001b[0;34m\u001b[0m\u001b[0m\n\u001b[1;32m     19\u001b[0m         \u001b[0mself\u001b[0m\u001b[0;34m.\u001b[0m\u001b[0m_user\u001b[0m \u001b[0;34m=\u001b[0m \u001b[0;34m''\u001b[0m\u001b[0;34m\u001b[0m\u001b[0m\n",
      "\u001b[0;32m/usr/lib/python2.7/site-packages/pyorient/messages/base.pyc\u001b[0m in \u001b[0;36m__init__\u001b[0;34m(self, sock)\u001b[0m\n\u001b[1;32m     22\u001b[0m         \u001b[0;34m:\u001b[0m\u001b[0mtype\u001b[0m \u001b[0msock\u001b[0m\u001b[0;34m:\u001b[0m \u001b[0mOrientSocket\u001b[0m\u001b[0;34m\u001b[0m\u001b[0m\n\u001b[1;32m     23\u001b[0m         \"\"\"\n\u001b[0;32m---> 24\u001b[0;31m         \u001b[0msock\u001b[0m\u001b[0;34m.\u001b[0m\u001b[0mget_connection\u001b[0m\u001b[0;34m(\u001b[0m\u001b[0;34m)\u001b[0m\u001b[0;34m\u001b[0m\u001b[0m\n\u001b[0m\u001b[1;32m     25\u001b[0m         \u001b[0mself\u001b[0m\u001b[0;34m.\u001b[0m\u001b[0m_orientSocket\u001b[0m \u001b[0;34m=\u001b[0m \u001b[0msock\u001b[0m\u001b[0;34m\u001b[0m\u001b[0m\n\u001b[1;32m     26\u001b[0m         \u001b[0mself\u001b[0m\u001b[0;34m.\u001b[0m\u001b[0m_protocol\u001b[0m \u001b[0;34m=\u001b[0m \u001b[0mself\u001b[0m\u001b[0;34m.\u001b[0m\u001b[0m_orientSocket\u001b[0m\u001b[0;34m.\u001b[0m\u001b[0mprotocol\u001b[0m\u001b[0;34m\u001b[0m\u001b[0m\n",
      "\u001b[0;32m/usr/lib/python2.7/site-packages/pyorient/orient.pyc\u001b[0m in \u001b[0;36mget_connection\u001b[0;34m(self)\u001b[0m\n\u001b[1;32m     50\u001b[0m     \u001b[0;32mdef\u001b[0m \u001b[0mget_connection\u001b[0m\u001b[0;34m(\u001b[0m\u001b[0mself\u001b[0m\u001b[0;34m)\u001b[0m\u001b[0;34m:\u001b[0m\u001b[0;34m\u001b[0m\u001b[0m\n\u001b[1;32m     51\u001b[0m         \u001b[0;32mif\u001b[0m \u001b[0;32mnot\u001b[0m \u001b[0mself\u001b[0m\u001b[0;34m.\u001b[0m\u001b[0mconnected\u001b[0m\u001b[0;34m:\u001b[0m\u001b[0;34m\u001b[0m\u001b[0m\n\u001b[0;32m---> 52\u001b[0;31m             \u001b[0mself\u001b[0m\u001b[0;34m.\u001b[0m\u001b[0mconnect\u001b[0m\u001b[0;34m(\u001b[0m\u001b[0;34m)\u001b[0m\u001b[0;34m\u001b[0m\u001b[0m\n\u001b[0m\u001b[1;32m     53\u001b[0m \u001b[0;34m\u001b[0m\u001b[0m\n\u001b[1;32m     54\u001b[0m         \u001b[0;32mreturn\u001b[0m \u001b[0mself\u001b[0m\u001b[0;34m.\u001b[0m\u001b[0m_socket\u001b[0m\u001b[0;34m\u001b[0m\u001b[0m\n",
      "\u001b[0;32m/usr/lib/python2.7/site-packages/pyorient/orient.pyc\u001b[0m in \u001b[0;36mconnect\u001b[0;34m(self)\u001b[0m\n\u001b[1;32m     80\u001b[0m         \u001b[0;32mexcept\u001b[0m \u001b[0msocket\u001b[0m\u001b[0;34m.\u001b[0m\u001b[0merror\u001b[0m \u001b[0;32mas\u001b[0m \u001b[0me\u001b[0m\u001b[0;34m:\u001b[0m\u001b[0;34m\u001b[0m\u001b[0m\n\u001b[1;32m     81\u001b[0m             \u001b[0mself\u001b[0m\u001b[0;34m.\u001b[0m\u001b[0mconnected\u001b[0m \u001b[0;34m=\u001b[0m \u001b[0mFalse\u001b[0m\u001b[0;34m\u001b[0m\u001b[0m\n\u001b[0;32m---> 82\u001b[0;31m             \u001b[0;32mraise\u001b[0m \u001b[0mPyOrientConnectionException\u001b[0m\u001b[0;34m(\u001b[0m \u001b[0;34m\"Socket Error: %s\"\u001b[0m \u001b[0;34m%\u001b[0m \u001b[0me\u001b[0m\u001b[0;34m,\u001b[0m \u001b[0;34m[\u001b[0m\u001b[0;34m]\u001b[0m \u001b[0;34m)\u001b[0m\u001b[0;34m\u001b[0m\u001b[0m\n\u001b[0m\u001b[1;32m     83\u001b[0m \u001b[0;34m\u001b[0m\u001b[0m\n\u001b[1;32m     84\u001b[0m     \u001b[0;32mdef\u001b[0m \u001b[0mclose\u001b[0m\u001b[0;34m(\u001b[0m\u001b[0mself\u001b[0m\u001b[0;34m)\u001b[0m\u001b[0;34m:\u001b[0m\u001b[0;34m\u001b[0m\u001b[0m\n",
      "\u001b[0;31mPyOrientConnectionException\u001b[0m: Socket Error: [Errno 111] Connection refused"
     ]
    }
   ],
   "source": [
    "client = pyorient.OrientDB(\"localhost\", 2424)\n",
    "session_id = client.connect( \"root\", \"root\" )"
   ]
  },
  {
   "cell_type": "code",
   "execution_count": null,
   "metadata": {},
   "outputs": [],
   "source": [
    "client.db_open( \"NFLgameDB\", \"admin\", \"admin\" )"
   ]
  },
  {
   "cell_type": "code",
   "execution_count": null,
   "metadata": {},
   "outputs": [],
   "source": [
    "den_scores_time = client.query(\"SELECT min,sec,score_type,down,yard_line FROM play_details WHERE score_type in['touchdown','fieldgoal','extrapoint'] and off =='DEN' limit 220\")\n",
    "for time in den_scores_time:\n",
    "    print(\"Denver-Broncos scored \"+time.score_type +\" in down # \"+ str(time.down)+\"  @  \"+ str(time.min) +\":\"+ str(time.sec))"
   ]
  },
  {
   "cell_type": "code",
   "execution_count": null,
   "metadata": {},
   "outputs": [],
   "source": [
    "bal_scores_time = client.query(\"SELECT min,sec,score_type,down FROM play_details WHERE score_type in['touchdown','fieldgoal','extrapoint'] and off =='BAL' limit 220\")\n",
    "for time in bal_scores_time:\n",
    "    print(\"Baltimore-Ravens scored \"+time.score_type +\" in down # \"+ str(time.down)+\"  @  \"+ str(time.min) +\":\"+ str(time.sec))"
   ]
  },
  {
   "cell_type": "code",
   "execution_count": null,
   "metadata": {},
   "outputs": [],
   "source": [
    "client.db_close()"
   ]
  }
 ],
 "metadata": {
  "kernelspec": {
   "display_name": "Python 2",
   "language": "python",
   "name": "python2"
  },
  "language_info": {
   "codemirror_mode": {
    "name": "ipython",
    "version": 2.0
   },
   "file_extension": ".py",
   "mimetype": "text/x-python",
   "name": "python",
   "nbconvert_exporter": "python",
   "pygments_lexer": "ipython2",
   "version": "2.7.5"
  }
 },
 "nbformat": 4,
 "nbformat_minor": 0
}